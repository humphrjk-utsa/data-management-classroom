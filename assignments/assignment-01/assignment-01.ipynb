```json
{
 "cells": [
  {
   "cell_type": "markdown",
   "metadata": {},
   "source": [
    "# Assignment 1: Environment Setup and Basic Analysis\n",
    "\n",
    "## Objectives\n",
    "- Test your data science environment\n",
    "- Practice basic Python and R\n",
    "- Connect to your PostgreSQL database\n",
    "- Create visualizations\n",
    "\n",
    "## Instructions\n",
    "Complete each section below. Make sure to run all cells and verify your output."
   ]
  },
  {
   "cell_type": "markdown",
   "metadata": {},
   "source": [
    "## Part 1: Python Setup"
   ]
  },
  {
   "cell_type": "code",
   "execution_count": null,
   "metadata": {},
   "outputs": [],
   "source": [
    "# Import essential libraries\n",
    "import pandas as pd\n",
    "import numpy as np\n",
    "import matplotlib.pyplot as plt\n",
    "import seaborn as sns\n",
    "from sqlalchemy import create_engine\n",
    "import os\n",
    "\n",
    "print(\"✅ All imports successful!\")\n",
    "print(f\"Pandas version: {pd.__version__}\")\n",
    "print(f\"NumPy version: {np.__version__}\")"
   ]
  },
  {
   "cell_type": "markdown",
   "metadata": {},
   "source": [
    "## Part 2: Database Connection"
   ]
  },
  {
   "cell_type": "code",
   "execution_count": null,
   "metadata": {},
   "outputs": [],
   "source": [
    "# Load database credentials and test connection\n",
    "# TODO: Test your database connection here\n",
    "\n",
    "print(\"Add your database connection code here\")"
   ]
  },
  {
   "cell_type": "markdown",
   "metadata": {},
   "source": [
    "## Part 3: Data Analysis\n",
    "\n",
    "Create a simple dataset and perform basic analysis."
   ]
  },
  {
   "cell_type": "code",
   "execution_count": null,
   "metadata": {},
   "outputs": [],
   "source": [
    "# TODO: Create sample data and visualize it\n",
    "\n",
    "# Your code here"
   ]
  },
  {
   "cell_type": "markdown",
   "metadata": {},
   "source": [
    "## Submission\n",
    "\n",
    "1. Complete all TODO sections\n",
    "2. Run all cells to verify they work\n",
    "3. Commit your changes\n",
    "4. Push to GitHub\n",
    "\n",
    "## Questions\n",
    "\n",
    "Answer these questions in markdown cells:\n",
    "\n",
    "1. What version of Python is installed?\n",
    "2. What is the name of your personal database?\n",
    "3. What extensions do you see in VSCode?\n"
   ]
  }
 ],
 "metadata": {
  "kernelspec": {
   "display_name": "Python 3",
   "language": "python",
   "name": "python3"
  },
  "language_info": {
   "name": "python",
   "version": "3.11.0"
  }
 },
 "nbformat": 4,
 "nbformat_minor": 4
}
