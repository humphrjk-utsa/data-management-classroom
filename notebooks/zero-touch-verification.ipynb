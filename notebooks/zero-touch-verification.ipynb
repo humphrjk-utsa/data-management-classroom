{
 "cells": [
  {
   "cell_type": "markdown",
   "id": "5d05bcae",
   "metadata": {},
   "source": [
    "# Zero-Touch Environment Verification\n",
    "\n",
    "This notebook verifies that our Codespaces environment provides a true zero-touch experience for students:\n",
    "- ✅ Jupyter Lab accessible without authentication\n",
    "- ✅ Python data science stack ready\n",
    "- ✅ R kernel available\n",
    "- ✅ PostgreSQL accessible without passwords\n",
    "- ✅ All running as jovyan user (official Jupyter Docker Stacks default)\n",
    "\n",
    "**Students should be able to run all cells without any password prompts or configuration!**"
   ]
  },
  {
   "cell_type": "markdown",
   "id": "432ad241",
   "metadata": {},
   "source": [
    "## 1. Environment Check"
   ]
  },
  {
   "cell_type": "code",
   "execution_count": null,
   "id": "ba38357a",
   "metadata": {},
   "outputs": [],
   "source": [
    "import os\n",
    "import getpass\n",
    "import platform\n",
    "\n",
    "print(\"🔍 Environment Information:\")\n",
    "print(f\"   User: {getpass.getuser()}\")\n",
    "print(f\"   Home: {os.path.expanduser('~')}\")\n",
    "print(f\"   Platform: {platform.platform()}\")\n",
    "print(f\"   Python: {platform.python_version()}\")\n",
    "print(f\"   Working Directory: {os.getcwd()}\")"
   ]
  },
  {
   "cell_type": "markdown",
   "id": "08bb8be7",
   "metadata": {},
   "source": [
    "## 2. Python Data Science Stack Test"
   ]
  },
  {
   "cell_type": "code",
   "execution_count": null,
   "id": "77e9ea36",
   "metadata": {},
   "outputs": [],
   "source": [
    "# Test core data science packages\n",
    "import numpy as np\n",
    "import pandas as pd\n",
    "import matplotlib.pyplot as plt\n",
    "import seaborn as sns\n",
    "import plotly.express as px\n",
    "import sklearn\n",
    "import scipy\n",
    "\n",
    "print(\"📊 Data Science Packages:\")\n",
    "print(f\"   NumPy: {np.__version__}\")\n",
    "print(f\"   Pandas: {pd.__version__}\")\n",
    "print(f\"   Matplotlib: {plt.matplotlib.__version__}\")\n",
    "print(f\"   Seaborn: {sns.__version__}\")\n",
    "print(f\"   Plotly: {px.__version__}\")\n",
    "print(f\"   Scikit-learn: {sklearn.__version__}\")\n",
    "print(f\"   SciPy: {scipy.__version__}\")\n",
    "\n",
    "# Quick data manipulation test\n",
    "df = pd.DataFrame({\n",
    "    'x': np.random.randn(100),\n",
    "    'y': np.random.randn(100)\n",
    "})\n",
    "print(f\"\\n✅ Created test DataFrame with {len(df)} rows\")\n",
    "print(df.head())"
   ]
  },
  {
   "cell_type": "markdown",
   "id": "01add245",
   "metadata": {},
   "source": [
    "## 3. PostgreSQL Connection Test (Zero Password)"
   ]
  },
  {
   "cell_type": "code",
   "execution_count": null,
   "id": "14724474",
   "metadata": {},
   "outputs": [],
   "source": [
    "import psycopg2\n",
    "import sqlalchemy\n",
    "from sqlalchemy import create_engine, text\n",
    "\n",
    "try:\n",
    "    # Test direct psycopg2 connection (should work with trust auth)\n",
    "    conn = psycopg2.connect(\n",
    "        host=\"localhost\",\n",
    "        database=\"jovyan\",\n",
    "        user=\"jovyan\"\n",
    "        # Note: NO PASSWORD - this should work with trust authentication\n",
    "    )\n",
    "    \n",
    "    cursor = conn.cursor()\n",
    "    cursor.execute(\"SELECT current_user, current_database(), version();\")\n",
    "    result = cursor.fetchone()\n",
    "    \n",
    "    print(\"🗄️ PostgreSQL Connection (psycopg2):\")\n",
    "    print(f\"   User: {result[0]}\")\n",
    "    print(f\"   Database: {result[1]}\")\n",
    "    print(f\"   Version: {result[2][:50]}...\")\n",
    "    \n",
    "    cursor.close()\n",
    "    conn.close()\n",
    "    print(\"✅ Direct PostgreSQL connection successful (no password needed)\")\n",
    "    \n",
    "except Exception as e:\n",
    "    print(f\"❌ PostgreSQL connection failed: {e}\")"
   ]
  },
  {
   "cell_type": "code",
   "execution_count": null,
   "id": "a1b20746",
   "metadata": {},
   "outputs": [],
   "source": [
    "# Test SQLAlchemy connection\n",
    "try:\n",
    "    engine = create_engine('postgresql://jovyan@localhost/jovyan')\n",
    "    \n",
    "    with engine.connect() as conn:\n",
    "        result = conn.execute(text(\"SELECT 'SQLAlchemy connection works!' as message\"))\n",
    "        message = result.fetchone()[0]\n",
    "        print(f\"🔗 {message}\")\n",
    "        \n",
    "        # Create a test table\n",
    "        conn.execute(text(\"\"\"\n",
    "            CREATE TABLE IF NOT EXISTS test_table (\n",
    "                id SERIAL PRIMARY KEY,\n",
    "                name VARCHAR(50),\n",
    "                created_at TIMESTAMP DEFAULT CURRENT_TIMESTAMP\n",
    "            )\n",
    "        \"\"\"))\n",
    "        \n",
    "        # Insert test data\n",
    "        conn.execute(text(\"\"\"\n",
    "            INSERT INTO test_table (name) VALUES \n",
    "            ('Student Test 1'), \n",
    "            ('Student Test 2')\n",
    "            ON CONFLICT DO NOTHING\n",
    "        \"\"\"))\n",
    "        \n",
    "        conn.commit()\n",
    "        print(\"✅ SQLAlchemy connection and table operations successful\")\n",
    "        \n",
    "except Exception as e:\n",
    "    print(f\"❌ SQLAlchemy connection failed: {e}\")"
   ]
  },
  {
   "cell_type": "markdown",
   "id": "88203c8c",
   "metadata": {},
   "source": [
    "## 4. Pandas + PostgreSQL Integration Test"
   ]
  },
  {
   "cell_type": "code",
   "execution_count": null,
   "id": "cce79e13",
   "metadata": {},
   "outputs": [],
   "source": [
    "# Test pandas read_sql with PostgreSQL\n",
    "try:\n",
    "    engine = create_engine('postgresql://jovyan@localhost/jovyan')\n",
    "    \n",
    "    # Read data into pandas\n",
    "    df_from_db = pd.read_sql(\n",
    "        \"SELECT * FROM test_table ORDER BY id\", \n",
    "        engine\n",
    "    )\n",
    "    \n",
    "    print(\"📋 Data from PostgreSQL:\")\n",
    "    print(df_from_db)\n",
    "    \n",
    "    # Create sample data and write to database\n",
    "    sample_data = pd.DataFrame({\n",
    "        'product': ['Widget A', 'Widget B', 'Widget C'],\n",
    "        'price': [10.99, 15.49, 8.75],\n",
    "        'quantity': [100, 50, 200]\n",
    "    })\n",
    "    \n",
    "    sample_data.to_sql('products', engine, if_exists='replace', index=False)\n",
    "    print(\"\\n✅ Successfully wrote pandas DataFrame to PostgreSQL\")\n",
    "    \n",
    "    # Read it back\n",
    "    products_df = pd.read_sql(\"SELECT * FROM products\", engine)\n",
    "    print(\"\\n📦 Products table:\")\n",
    "    print(products_df)\n",
    "    \n",
    "except Exception as e:\n",
    "    print(f\"❌ Pandas-PostgreSQL integration failed: {e}\")"
   ]
  },
  {
   "cell_type": "markdown",
   "id": "f51f0130",
   "metadata": {},
   "source": [
    "## 5. Data Visualization Test"
   ]
  },
  {
   "cell_type": "code",
   "execution_count": null,
   "id": "9e88203f",
   "metadata": {},
   "outputs": [],
   "source": [
    "# Test matplotlib\n",
    "plt.figure(figsize=(10, 4))\n",
    "\n",
    "plt.subplot(1, 2, 1)\n",
    "x = np.linspace(0, 10, 100)\n",
    "plt.plot(x, np.sin(x), label='sin(x)')\n",
    "plt.plot(x, np.cos(x), label='cos(x)')\n",
    "plt.title('Matplotlib Test')\n",
    "plt.legend()\n",
    "plt.grid(True)\n",
    "\n",
    "plt.subplot(1, 2, 2)\n",
    "data = np.random.randn(1000)\n",
    "plt.hist(data, bins=30, alpha=0.7)\n",
    "plt.title('Random Data Distribution')\n",
    "plt.xlabel('Value')\n",
    "plt.ylabel('Frequency')\n",
    "\n",
    "plt.tight_layout()\n",
    "plt.show()\n",
    "\n",
    "print(\"✅ Matplotlib visualization successful\")"
   ]
  },
  {
   "cell_type": "code",
   "execution_count": null,
   "id": "0c6ecdad",
   "metadata": {},
   "outputs": [],
   "source": [
    "# Test plotly interactive visualization\n",
    "try:\n",
    "    from IPython.display import display\n",
    "    \n",
    "    # Create sample data\n",
    "    sample_df = pd.DataFrame({\n",
    "        'x': np.random.randn(100),\n",
    "        'y': np.random.randn(100),\n",
    "        'category': np.random.choice(['A', 'B', 'C'], 100)\n",
    "    })\n",
    "    \n",
    "    fig = px.scatter(\n",
    "        sample_df, \n",
    "        x='x', \n",
    "        y='y', \n",
    "        color='category',\n",
    "        title='Interactive Plotly Scatter Plot'\n",
    "    )\n",
    "    \n",
    "    fig.show()\n",
    "    print(\"✅ Plotly interactive visualization successful\")\n",
    "    \n",
    "except Exception as e:\n",
    "    print(f\"⚠️ Plotly visualization issue: {e}\")"
   ]
  },
  {
   "cell_type": "markdown",
   "id": "e5a27217",
   "metadata": {},
   "source": [
    "## 6. File System and Permissions Test"
   ]
  },
  {
   "cell_type": "code",
   "execution_count": null,
   "id": "6dcce98e",
   "metadata": {},
   "outputs": [],
   "source": [
    "import stat\n",
    "\n",
    "# Test file operations\n",
    "test_file = '/tmp/student_test.txt'\n",
    "\n",
    "try:\n",
    "    # Write test file\n",
    "    with open(test_file, 'w') as f:\n",
    "        f.write(\"Hello from the data science classroom!\\n\")\n",
    "        f.write(f\"Written by user: {getpass.getuser()}\\n\")\n",
    "    \n",
    "    # Read it back\n",
    "    with open(test_file, 'r') as f:\n",
    "        content = f.read()\n",
    "    \n",
    "    print(\"📁 File Operations Test:\")\n",
    "    print(f\"   File created: {test_file}\")\n",
    "    print(f\"   Content: {content.strip()}\")\n",
    "    \n",
    "    # Check permissions\n",
    "    file_stat = os.stat(test_file)\n",
    "    permissions = stat.filemode(file_stat.st_mode)\n",
    "    print(f\"   Permissions: {permissions}\")\n",
    "    \n",
    "    # Clean up\n",
    "    os.remove(test_file)\n",
    "    print(\"✅ File operations successful\")\n",
    "    \n",
    "except Exception as e:\n",
    "    print(f\"❌ File operations failed: {e}\")"
   ]
  },
  {
   "cell_type": "markdown",
   "id": "802277de",
   "metadata": {},
   "source": [
    "## 7. Jupyter Configuration Check"
   ]
  },
  {
   "cell_type": "code",
   "execution_count": null,
   "id": "39a44b02",
   "metadata": {},
   "outputs": [],
   "source": [
    "# Check Jupyter configuration\n",
    "jupyter_config_path = os.path.expanduser('~/.jupyter/jupyter_server_config.py')\n",
    "\n",
    "print(\"🔧 Jupyter Configuration:\")\n",
    "if os.path.exists(jupyter_config_path):\n",
    "    with open(jupyter_config_path, 'r') as f:\n",
    "        config_content = f.read()\n",
    "    print(f\"   Config file exists: {jupyter_config_path}\")\n",
    "    print(\"   Content:\")\n",
    "    for line in config_content.split('\\n'):\n",
    "        if line.strip():\n",
    "            print(f\"     {line}\")\n",
    "    \n",
    "    # Check for zero-touch settings\n",
    "    if \"c.ServerApp.token = ''\" in config_content:\n",
    "        print(\"   ✅ Token authentication disabled\")\n",
    "    if \"c.ServerApp.password = ''\" in config_content:\n",
    "        print(\"   ✅ Password authentication disabled\")\n",
    "        \n",
    "else:\n",
    "    print(f\"   ⚠️ Config file not found: {jupyter_config_path}\")\n",
    "\n",
    "# Check environment variables\n",
    "print(\"\\n🌍 PostgreSQL Environment Variables:\")\n",
    "pg_vars = ['PGUSER', 'PGDATABASE', 'PGHOST', 'PGPORT']\n",
    "for var in pg_vars:\n",
    "    value = os.environ.get(var, 'Not set')\n",
    "    print(f\"   {var}: {value}\")"
   ]
  },
  {
   "cell_type": "markdown",
   "id": "cf6fe989",
   "metadata": {},
   "source": [
    "## 8. Summary Report"
   ]
  },
  {
   "cell_type": "code",
   "execution_count": null,
   "id": "da6ae462",
   "metadata": {},
   "outputs": [],
   "source": [
    "print(\"🎓 ZERO-TOUCH ENVIRONMENT VERIFICATION COMPLETE\")\n",
    "print(\"=\" * 50)\n",
    "print(\"\")\n",
    "print(\"If all tests above passed, students should experience:\")\n",
    "print(\"\")\n",
    "print(\"✅ Immediate Jupyter Lab access (no authentication)\")\n",
    "print(\"✅ Full Python data science stack ready\")\n",
    "print(\"✅ PostgreSQL database accessible (no passwords)\")\n",
    "print(\"✅ Seamless pandas ↔ PostgreSQL integration\")\n",
    "print(\"✅ Interactive visualizations working\")\n",
    "print(\"✅ All file operations permitted\")\n",
    "print(\"✅ Running as jovyan user (official Jupyter standard)\")\n",
    "print(\"\")\n",
    "print(\"🚀 Environment is ready for data science education!\")\n",
    "print(\"\")\n",
    "print(\"Students can now:\")\n",
    "print(\"  • Open Codespace and start coding immediately\")\n",
    "print(\"  • Use Jupyter notebooks without any setup\")\n",
    "print(\"  • Connect to databases without passwords\")\n",
    "print(\"  • Focus on learning, not configuration\")"
   ]
  }
 ],
 "metadata": {
  "kernelspec": {
   "display_name": "Python 3",
   "language": "python",
   "name": "python3"
  },
  "language_info": {
   "name": "python",
   "version": "3.12.3"
  }
 },
 "nbformat": 4,
 "nbformat_minor": 5
}
