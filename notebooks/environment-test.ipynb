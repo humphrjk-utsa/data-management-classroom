{
 "cells": [
  {
   "cell_type": "markdown",
   "id": "a387ceed",
   "metadata": {},
   "source": [
    "# Environment Test Notebook\n",
    "This notebook tests that the environment is working correctly for students."
   ]
  },
  {
   "cell_type": "code",
   "execution_count": null,
   "id": "e69afb5c",
   "metadata": {},
   "outputs": [],
   "source": [
    "# Test Python environment\n",
    "import pandas as pd\n",
    "import numpy as np\n",
    "import matplotlib.pyplot as plt\n",
    "\n",
    "print(\"✅ Python packages imported successfully!\")\n",
    "print(f\"📊 Pandas version: {pd.__version__}\")\n",
    "print(f\"🔢 NumPy version: {np.__version__}\")"
   ]
  },
  {
   "cell_type": "code",
   "execution_count": null,
   "id": "ee2b7d52",
   "metadata": {},
   "outputs": [],
   "source": [
    "# Create sample data\n",
    "data = pd.DataFrame({\n",
    "    'x': np.random.randn(100),\n",
    "    'y': np.random.randn(100)\n",
    "})\n",
    "\n",
    "print(f\"📈 Created DataFrame with {len(data)} rows\")\n",
    "print(data.head())"
   ]
  },
  {
   "cell_type": "code",
   "execution_count": null,
   "id": "300d6b7c",
   "metadata": {},
   "outputs": [],
   "source": [
    "# Test plotting\n",
    "plt.figure(figsize=(8, 6))\n",
    "plt.scatter(data['x'], data['y'], alpha=0.7)\n",
    "plt.xlabel('X values')\n",
    "plt.ylabel('Y values')\n",
    "plt.title('Sample Data Visualization')\n",
    "plt.grid(True, alpha=0.3)\n",
    "plt.show()\n",
    "\n",
    "print(\"✅ Visualization created successfully!\")"
   ]
  }
 ],
 "metadata": {
  "language_info": {
   "name": "python"
  }
 },
 "nbformat": 4,
 "nbformat_minor": 5
}
