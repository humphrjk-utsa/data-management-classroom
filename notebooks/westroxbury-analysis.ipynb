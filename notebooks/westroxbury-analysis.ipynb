{
 "cells": [
  {
   "cell_type": "markdown",
   "id": "ed4a898a",
   "metadata": {},
   "source": [
    "# WestRoxbury Data Analysis with R\n",
    "\n",
    "This notebook demonstrates R capabilities in the data science classroom environment. We'll analyze the WestRoxbury housing dataset using R's data manipulation and visualization tools.\n",
    "\n",
    "## Objectives\n",
    "- Load and explore the WestRoxbury CSV dataset\n",
    "- Demonstrate R data analysis workflows\n",
    "- Test R kernel integration with Jupyter\n",
    "- Show database connectivity options"
   ]
  },
  {
   "cell_type": "markdown",
   "id": "99d945f6",
   "metadata": {},
   "source": [
    "## 1. Install and Load Required R Packages\n",
    "\n",
    "First, we'll check for and install any missing packages, then load the required libraries for data analysis."
   ]
  },
  {
   "cell_type": "code",
   "execution_count": null,
   "id": "857260b1",
   "metadata": {
    "vscode": {
     "languageId": "r"
    }
   },
   "outputs": [
    {
     "ename": "",
     "evalue": "",
     "output_type": "error",
     "traceback": [
      "\u001b[1;31mFailed to start the Kernel. \n",
      "\u001b[1;31mError in loadNamespace(name) : there is no package called ‘IRkernel’\n",
      "\u001b[1;31mCalls: :: ... loadNamespace -> withRestarts -> withOneRestart -> doWithOneRestart\n",
      "\u001b[1;31mExecution halted. \n",
      "\u001b[1;31mView Jupyter <a href='command:jupyter.viewOutput'>log</a> for further details."
     ]
    }
   ],
   "source": [
    "# Check and install required packages\n",
    "required_packages <- c(\"readr\", \"dplyr\", \"ggplot2\", \"DBI\", \"RPostgreSQL\")\n",
    "\n",
    "for (package in required_packages) {\n",
    "    if (!require(package, character.only = TRUE, quietly = TRUE)) {\n",
    "        cat(\"Installing package:\", package, \"\\n\")\n",
    "        install.packages(package, quiet = TRUE)\n",
    "        library(package, character.only = TRUE)\n",
    "    } else {\n",
    "        cat(\"✅ Package\", package, \"already loaded\\n\")\n",
    "    }\n",
    "}\n",
    "\n",
    "cat(\"\\n🎉 All required packages are ready!\\n\")"
   ]
  },
  {
   "cell_type": "markdown",
   "id": "a3fb8e2a",
   "metadata": {},
   "source": [
    "## 2. Read the WestRoxbury CSV File\n",
    "\n",
    "Let's load the WestRoxbury dataset using readr package for efficient CSV reading."
   ]
  },
  {
   "cell_type": "code",
   "execution_count": null,
   "id": "dcb15016",
   "metadata": {
    "vscode": {
     "languageId": "r"
    }
   },
   "outputs": [],
   "source": [
    "# Read the WestRoxbury CSV file\n",
    "file_path <- \"../data/WestRoxbury.csv\"\n",
    "\n",
    "# Check if file exists\n",
    "if (file.exists(file_path)) {\n",
    "    # Read the CSV file\n",
    "    westroxbury <- read_csv(file_path, show_col_types = FALSE)\n",
    "    cat(\"✅ Successfully loaded WestRoxbury dataset\\n\")\n",
    "    cat(\"📊 Dataset dimensions:\", nrow(westroxbury), \"rows ×\", ncol(westroxbury), \"columns\\n\")\n",
    "} else {\n",
    "    cat(\"❌ File not found at:\", file_path, \"\\n\")\n",
    "    cat(\"💡 Please ensure the WestRoxbury.csv file is in the data folder\\n\")\n",
    "}"
   ]
  },
  {
   "cell_type": "markdown",
   "id": "c946fb30",
   "metadata": {},
   "source": [
    "## 3. Explore the DataFrame Structure\n",
    "\n",
    "Let's examine the structure and basic properties of our dataset."
   ]
  },
  {
   "cell_type": "code",
   "execution_count": null,
   "id": "a8a0e644",
   "metadata": {
    "vscode": {
     "languageId": "r"
    }
   },
   "outputs": [],
   "source": [
    "# Explore the structure of the dataset\n",
    "if (exists(\"westroxbury\")) {\n",
    "    cat(\"📋 Dataset Structure:\\n\")\n",
    "    str(westroxbury)\n",
    "    \n",
    "    cat(\"\\n📐 Dataset Dimensions:\\n\")\n",
    "    print(dim(westroxbury))\n",
    "    \n",
    "    cat(\"\\n👀 First few rows:\\n\")\n",
    "    print(head(westroxbury, n = 5))\n",
    "    \n",
    "    cat(\"\\n📝 Column names:\\n\")\n",
    "    print(colnames(westroxbury))\n",
    "} else {\n",
    "    cat(\"⚠️ Dataset not loaded. Please run the previous cell first.\\n\")\n",
    "}"
   ]
  },
  {
   "cell_type": "markdown",
   "id": "3ac1d226",
   "metadata": {},
   "source": [
    "## 4. Summary Statistics and Data Preview\n",
    "\n",
    "Now let's get summary statistics and a detailed overview using dplyr functions."
   ]
  },
  {
   "cell_type": "code",
   "execution_count": null,
   "id": "00906de4",
   "metadata": {
    "vscode": {
     "languageId": "r"
    }
   },
   "outputs": [],
   "source": [
    "# Summary statistics and data overview\n",
    "if (exists(\"westroxbury\")) {\n",
    "    cat(\"📊 Summary Statistics:\\n\")\n",
    "    print(summary(westroxbury))\n",
    "    \n",
    "    cat(\"\\n🔍 dplyr glimpse:\\n\")\n",
    "    glimpse(westroxbury)\n",
    "    \n",
    "    # Check for missing values\n",
    "    cat(\"\\n❓ Missing values per column:\\n\")\n",
    "    missing_values <- westroxbury %>%\n",
    "        summarise_all(~sum(is.na(.))) %>%\n",
    "        gather(column, missing_count) %>%\n",
    "        filter(missing_count > 0)\n",
    "    \n",
    "    if (nrow(missing_values) > 0) {\n",
    "        print(missing_values)\n",
    "    } else {\n",
    "        cat(\"✅ No missing values found!\\n\")\n",
    "    }\n",
    "} else {\n",
    "    cat(\"⚠️ Dataset not loaded. Please run the data loading cell first.\\n\")\n",
    "}"
   ]
  },
  {
   "cell_type": "markdown",
   "id": "6d33b3f6",
   "metadata": {},
   "source": [
    "## 5. Basic Data Visualization\n",
    "\n",
    "Let's create some basic visualizations to understand the dataset better."
   ]
  },
  {
   "cell_type": "code",
   "execution_count": null,
   "id": "23cc6278",
   "metadata": {
    "vscode": {
     "languageId": "r"
    }
   },
   "outputs": [],
   "source": [
    "# Create visualizations (assuming common real estate columns)\n",
    "if (exists(\"westroxbury\")) {\n",
    "    # Try to identify numeric columns for visualization\n",
    "    numeric_cols <- westroxbury %>% select_if(is.numeric) %>% colnames()\n",
    "    \n",
    "    if (length(numeric_cols) > 0) {\n",
    "        cat(\"📈 Creating visualizations for numeric columns:\\n\")\n",
    "        print(numeric_cols)\n",
    "        \n",
    "        # Create a histogram for the first numeric column\n",
    "        first_numeric <- numeric_cols[1]\n",
    "        p1 <- ggplot(westroxbury, aes_string(x = first_numeric)) +\n",
    "            geom_histogram(bins = 30, fill = \"steelblue\", alpha = 0.7, color = \"black\") +\n",
    "            labs(title = paste(\"Distribution of\", first_numeric),\n",
    "                 x = first_numeric,\n",
    "                 y = \"Frequency\") +\n",
    "            theme_minimal()\n",
    "        \n",
    "        print(p1)\n",
    "        \n",
    "        # If we have at least 2 numeric columns, create a scatter plot\n",
    "        if (length(numeric_cols) >= 2) {\n",
    "            second_numeric <- numeric_cols[2]\n",
    "            p2 <- ggplot(westroxbury, aes_string(x = first_numeric, y = second_numeric)) +\n",
    "                geom_point(alpha = 0.6, color = \"darkblue\") +\n",
    "                geom_smooth(method = \"lm\", color = \"red\", se = FALSE) +\n",
    "                labs(title = paste(second_numeric, \"vs\", first_numeric),\n",
    "                     x = first_numeric,\n",
    "                     y = second_numeric) +\n",
    "                theme_minimal()\n",
    "            \n",
    "            print(p2)\n",
    "        }\n",
    "    } else {\n",
    "        cat(\"📊 No numeric columns found for visualization.\\n\")\n",
    "        cat(\"💡 Let's see what columns we have:\\n\")\n",
    "        print(colnames(westroxbury))\n",
    "    }\n",
    "} else {\n",
    "    cat(\"⚠️ Dataset not loaded. Please run the data loading cell first.\\n\")\n",
    "}"
   ]
  },
  {
   "cell_type": "markdown",
   "id": "77254b90",
   "metadata": {},
   "source": [
    "## 6. Database Connectivity Test (Optional)\n",
    "\n",
    "Let's test our PostgreSQL database connection and potentially store our data."
   ]
  },
  {
   "cell_type": "code",
   "execution_count": null,
   "id": "cfe36d45",
   "metadata": {
    "vscode": {
     "languageId": "r"
    }
   },
   "outputs": [],
   "source": [
    "# Test PostgreSQL database connection\n",
    "tryCatch({\n",
    "    # Connect to PostgreSQL database\n",
    "    con <- dbConnect(RPostgreSQL::PostgreSQL(),\n",
    "                     host = \"localhost\",\n",
    "                     dbname = \"vscode\",\n",
    "                     user = \"vscode\",\n",
    "                     port = 5432)\n",
    "    \n",
    "    cat(\"✅ Successfully connected to PostgreSQL database!\\n\")\n",
    "    \n",
    "    # Test the connection with a simple query\n",
    "    version_info <- dbGetQuery(con, \"SELECT version();\")\n",
    "    cat(\"📊 Database version:\\n\")\n",
    "    print(substr(version_info$version, 1, 50))\n",
    "    \n",
    "    # List existing tables\n",
    "    tables <- dbListTables(con)\n",
    "    cat(\"\\n📋 Existing tables in database:\\n\")\n",
    "    if (length(tables) > 0) {\n",
    "        print(tables)\n",
    "    } else {\n",
    "        cat(\"No tables found (this is normal for a new database)\\n\")\n",
    "    }\n",
    "    \n",
    "    # Example: Create a simple test table (commented out to avoid clutter)\n",
    "    # if (exists(\"westroxbury\") && nrow(westroxbury) > 0) {\n",
    "    #     cat(\"\\n💾 Optionally store data in database...\\n\")\n",
    "    #     # dbWriteTable(con, \"westroxbury_data\", westroxbury, overwrite = TRUE)\n",
    "    #     # cat(\"✅ Data stored in database table 'westroxbury_data'\\n\")\n",
    "    # }\n",
    "    \n",
    "    # Close the connection\n",
    "    dbDisconnect(con)\n",
    "    cat(\"\\n🔐 Database connection closed.\\n\")\n",
    "    \n",
    "}, error = function(e) {\n",
    "    cat(\"❌ Database connection failed:\\n\")\n",
    "    cat(\"Error:\", conditionMessage(e), \"\\n\")\n",
    "    cat(\"💡 This is normal if PostgreSQL is not running or configured.\\n\")\n",
    "})"
   ]
  },
  {
   "cell_type": "markdown",
   "id": "a4985eb3",
   "metadata": {},
   "source": [
    "## 7. Conclusion\n",
    "\n",
    "This notebook successfully demonstrates:\n",
    "\n",
    "- ✅ **R kernel functionality** in Jupyter notebooks\n",
    "- ✅ **Package management** with automatic installation\n",
    "- ✅ **Data loading** from CSV files using readr\n",
    "- ✅ **Data exploration** with base R and dplyr functions\n",
    "- ✅ **Data visualization** using ggplot2\n",
    "- ✅ **Database connectivity** with PostgreSQL\n",
    "- ✅ **GitHub Classroom integration** ready\n",
    "\n",
    "### Next Steps for Students:\n",
    "1. **Explore more variables** in the dataset\n",
    "2. **Create additional visualizations** (boxplots, faceted plots)\n",
    "3. **Perform statistical analysis** (correlations, regressions)\n",
    "4. **Store results in the database** for persistence\n",
    "5. **Create R Markdown reports** for reproducible research\n",
    "\n",
    "### Environment Summary:\n",
    "- **R Version**: Working with tidyverse packages\n",
    "- **Database**: PostgreSQL with passwordless access\n",
    "- **Visualization**: ggplot2 graphics system\n",
    "- **IDE Options**: VS Code, RStudio Server, or Jupyter\n",
    "\n",
    "The environment is ready for data science coursework! 🎉"
   ]
  }
 ],
 "metadata": {
  "kernelspec": {
   "display_name": "R",
   "language": "R",
   "name": "ir"
  },
  "language_info": {
   "codemirror_mode": {
    "name": "ipython",
    "version": 3
   },
   "file_extension": ".py",
   "mimetype": "text/x-python",
   "name": "R",
   "nbconvert_exporter": "python",
   "pygments_lexer": "ipython3",
   "version": "2.7.undefined"
  }
 },
 "nbformat": 4,
 "nbformat_minor": 5
}
