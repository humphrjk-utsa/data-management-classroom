{
 "cells": [
  {
   "cell_type": "markdown",
   "id": "1b90b0e4",
   "metadata": {},
   "source": [
    "# Data Management Classroom - Getting Started\n",
    "\n",
    "Welcome to the Data Management Classroom! This notebook demonstrates the basic functionality of your environment.\n",
    "\n",
    "## Environment Overview\n",
    "- **Database**: PostgreSQL 13 with passwordless local access\n",
    "- **Python**: Data science packages (pandas, numpy, matplotlib, seaborn, scikit-learn)\n",
    "- **VS Code**: Integrated development environment with notebook support\n",
    "- **Sample Data**: Pre-loaded CSV and database examples"
   ]
  },
  {
   "cell_type": "markdown",
   "id": "ec962415",
   "metadata": {},
   "source": [
    "## 1. Import Required Libraries\n",
    "\n",
    "Let's start by importing the essential libraries for data analysis."
   ]
  },
  {
   "cell_type": "code",
   "execution_count": null,
   "id": "fb0144ea",
   "metadata": {},
   "outputs": [],
   "source": [
    "import pandas as pd\n",
    "import numpy as np\n",
    "import psycopg2\n",
    "import matplotlib.pyplot as plt\n",
    "import seaborn as sns\n",
    "from sqlalchemy import create_engine\n",
    "\n",
    "# Set up plotting style\n",
    "plt.style.use('default')\n",
    "sns.set_palette(\"husl\")\n",
    "\n",
    "print(\"✅ All libraries imported successfully!\")\n",
    "print(f\"📊 Pandas version: {pd.__version__}\")\n",
    "print(f\"🔢 NumPy version: {np.__version__}\")"
   ]
  },
  {
   "cell_type": "markdown",
   "id": "623fbcc1",
   "metadata": {},
   "source": [
    "## 2. Database Connection\n",
    "\n",
    "Connect to the PostgreSQL database and explore the sample data."
   ]
  },
  {
   "cell_type": "code",
   "execution_count": null,
   "id": "980db4e1",
   "metadata": {},
   "outputs": [],
   "source": [
    "# Database connection using SQLAlchemy (recommended for pandas)\n",
    "engine = create_engine('postgresql://vscode@localhost:5432/vscode')\n",
    "\n",
    "# Test connection\n",
    "try:\n",
    "    with engine.connect() as conn:\n",
    "        result = conn.execute(\"SELECT version()\")\n",
    "        version = result.fetchone()[0]\n",
    "        print(f\"✅ Connected to: {version[:50]}...\")\n",
    "except Exception as e:\n",
    "    print(f\"❌ Connection failed: {e}\")"
   ]
  },
  {
   "cell_type": "markdown",
   "id": "12826154",
   "metadata": {},
   "source": [
    "## 3. Load and Explore Data\n",
    "\n",
    "Let's load data from both the CSV file and the database."
   ]
  },
  {
   "cell_type": "code",
   "execution_count": null,
   "id": "2ef68dbd",
   "metadata": {},
   "outputs": [],
   "source": [
    "# Load CSV data\n",
    "csv_data = pd.read_csv('/workspaces/data-management-classroom/data/raw/sample.csv')\n",
    "print(\"📁 CSV Data:\")\n",
    "print(csv_data.head())\n",
    "print(f\"\\nDataset shape: {csv_data.shape}\")"
   ]
  },
  {
   "cell_type": "code",
   "execution_count": null,
   "id": "6963fc85",
   "metadata": {},
   "outputs": [],
   "source": [
    "# Load database data\n",
    "try:\n",
    "    db_data = pd.read_sql(\"SELECT * FROM employees\", engine)\n",
    "    print(\"🗄️ Database Data:\")\n",
    "    print(db_data)\n",
    "except Exception as e:\n",
    "    print(f\"ℹ️ No employees table found: {e}\")\n",
    "    print(\"Run the quickstart script first: python3 scripts/quickstart.py\")"
   ]
  },
  {
   "cell_type": "markdown",
   "id": "0979f464",
   "metadata": {},
   "source": [
    "## 4. Data Analysis\n",
    "\n",
    "Perform basic data analysis and visualization."
   ]
  },
  {
   "cell_type": "code",
   "execution_count": null,
   "id": "881ea3ab",
   "metadata": {},
   "outputs": [],
   "source": [
    "# Basic statistics\n",
    "print(\"📊 Data Summary:\")\n",
    "print(csv_data.describe())\n",
    "\n",
    "# Department analysis\n",
    "dept_summary = csv_data.groupby('department').agg({\n",
    "    'salary': ['mean', 'count'],\n",
    "    'age': 'mean'\n",
    "}).round(2)\n",
    "\n",
    "print(\"\\n🏢 Department Summary:\")\n",
    "print(dept_summary)"
   ]
  },
  {
   "cell_type": "code",
   "execution_count": null,
   "id": "3e271ec5",
   "metadata": {},
   "outputs": [],
   "source": [
    "# Create visualizations\n",
    "fig, axes = plt.subplots(2, 2, figsize=(12, 10))\n",
    "\n",
    "# Salary distribution\n",
    "axes[0, 0].hist(csv_data['salary'], bins=10, alpha=0.7, color='skyblue')\n",
    "axes[0, 0].set_title('Salary Distribution')\n",
    "axes[0, 0].set_xlabel('Salary')\n",
    "axes[0, 0].set_ylabel('Frequency')\n",
    "\n",
    "# Age vs Salary scatter plot\n",
    "axes[0, 1].scatter(csv_data['age'], csv_data['salary'], alpha=0.7, color='coral')\n",
    "axes[0, 1].set_title('Age vs Salary')\n",
    "axes[0, 1].set_xlabel('Age')\n",
    "axes[0, 1].set_ylabel('Salary')\n",
    "\n",
    "# Department salary comparison\n",
    "dept_salaries = csv_data.groupby('department')['salary'].mean()\n",
    "axes[1, 0].bar(dept_salaries.index, dept_salaries.values, color='lightgreen')\n",
    "axes[1, 0].set_title('Average Salary by Department')\n",
    "axes[1, 0].set_xlabel('Department')\n",
    "axes[1, 0].set_ylabel('Average Salary')\n",
    "axes[1, 0].tick_params(axis='x', rotation=45)\n",
    "\n",
    "# Age distribution by department\n",
    "for dept in csv_data['department'].unique():\n",
    "    dept_ages = csv_data[csv_data['department'] == dept]['age']\n",
    "    axes[1, 1].hist(dept_ages, alpha=0.6, label=dept, bins=5)\n",
    "axes[1, 1].set_title('Age Distribution by Department')\n",
    "axes[1, 1].set_xlabel('Age')\n",
    "axes[1, 1].set_ylabel('Frequency')\n",
    "axes[1, 1].legend()\n",
    "\n",
    "plt.tight_layout()\n",
    "plt.show()\n",
    "\n",
    "print(\"📈 Visualizations created successfully!\")"
   ]
  },
  {
   "cell_type": "markdown",
   "id": "1af5f5a0",
   "metadata": {},
   "source": [
    "## 5. Database Operations\n",
    "\n",
    "Demonstrate how to work with the PostgreSQL database."
   ]
  },
  {
   "cell_type": "code",
   "execution_count": null,
   "id": "9bb26fab",
   "metadata": {},
   "outputs": [],
   "source": [
    "# Create a new table from our CSV data\n",
    "try:\n",
    "    csv_data.to_sql('employees_csv', engine, if_exists='replace', index=False)\n",
    "    print(\"✅ CSV data uploaded to database as 'employees_csv' table\")\n",
    "    \n",
    "    # Query the new table\n",
    "    result = pd.read_sql(\"SELECT department, AVG(salary) as avg_salary FROM employees_csv GROUP BY department ORDER BY avg_salary DESC\", engine)\n",
    "    print(\"\\n💰 Average Salary by Department (from database):\")\n",
    "    print(result)\n",
    "    \n",
    "except Exception as e:\n",
    "    print(f\"❌ Database operation failed: {e}\")"
   ]
  },
  {
   "cell_type": "markdown",
   "id": "9842ef7f",
   "metadata": {},
   "source": [
    "## 6. Next Steps\n",
    "\n",
    "You now have a fully functional data management environment! Here are some next steps:\n",
    "\n",
    "1. **Explore the workspace structure**:\n",
    "   - `data/raw/` - Place your raw data files here\n",
    "   - `data/processed/` - Save cleaned and processed data\n",
    "   - `notebooks/` - Create analysis notebooks\n",
    "   - `scripts/` - Write Python scripts for data processing\n",
    "\n",
    "2. **Database management**:\n",
    "   - Use VS Code's PostgreSQL extensions for database exploration\n",
    "   - Create tables, views, and stored procedures\n",
    "   - Practice SQL queries\n",
    "\n",
    "3. **Data analysis**:\n",
    "   - Import your own datasets\n",
    "   - Create data cleaning pipelines\n",
    "   - Build machine learning models\n",
    "   - Generate reports and visualizations\n",
    "\n",
    "4. **Useful commands**:\n",
    "   - `python3 scripts/quick_check.sh` - Verify environment\n",
    "   - `python3 scripts/quickstart.py` - Run demo\n",
    "   - `psql -h localhost -U vscode -d vscode` - Connect to database\n",
    "\n",
    "Happy data analysis! 🎉"
   ]
  }
 ],
 "metadata": {
  "language_info": {
   "name": "python"
  }
 },
 "nbformat": 4,
 "nbformat_minor": 5
}
