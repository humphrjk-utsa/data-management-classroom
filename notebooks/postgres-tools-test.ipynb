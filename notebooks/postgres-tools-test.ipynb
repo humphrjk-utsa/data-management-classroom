{
 "cells": [
  {
   "cell_type": "markdown",
   "id": "7043b465",
   "metadata": {},
   "source": [
    "# PostgreSQL Tools Test\n",
    "\n",
    "This notebook tests all the PostgreSQL tools needed for Jupyter notebooks:\n",
    "- `ipython-sql` for SQL magic commands\n",
    "- `sqlalchemy` for database connections\n",
    "- `psycopg2` for PostgreSQL driver"
   ]
  },
  {
   "cell_type": "code",
   "execution_count": null,
   "id": "fa40fef9",
   "metadata": {},
   "outputs": [],
   "source": [
    "# Test imports\n",
    "import sqlalchemy\n",
    "import psycopg2\n",
    "print(f\"SQLAlchemy version: {sqlalchemy.__version__}\")\n",
    "print(f\"psycopg2 version: {psycopg2.__version__}\")"
   ]
  },
  {
   "cell_type": "code",
   "execution_count": null,
   "id": "d52317de",
   "metadata": {},
   "outputs": [],
   "source": [
    "# Load SQL magic extension\n",
    "%load_ext sql"
   ]
  },
  {
   "cell_type": "code",
   "execution_count": null,
   "id": "1d1142b7",
   "metadata": {},
   "outputs": [],
   "source": [
    "# Test database connection\n",
    "%sql postgresql://student@localhost:5432/student"
   ]
  },
  {
   "cell_type": "code",
   "execution_count": null,
   "id": "32c5cdfd",
   "metadata": {},
   "outputs": [],
   "source": [
    "# Test simple query\n",
    "%sql SELECT version();"
   ]
  },
  {
   "cell_type": "code",
   "execution_count": null,
   "id": "66182b16",
   "metadata": {},
   "outputs": [],
   "source": [
    "# Test SQLAlchemy connection\n",
    "from sqlalchemy import create_engine, text\n",
    "import pandas as pd\n",
    "\n",
    "# Create engine\n",
    "engine = create_engine('postgresql://student@localhost:5432/student')\n",
    "\n",
    "# Test query with pandas\n",
    "with engine.connect() as conn:\n",
    "    result = pd.read_sql(text(\"SELECT 'SQLAlchemy and pandas working!' as message\"), conn)\n",
    "    print(result)"
   ]
  }
 ],
 "metadata": {
  "language_info": {
   "name": "python"
  }
 },
 "nbformat": 4,
 "nbformat_minor": 5
}
