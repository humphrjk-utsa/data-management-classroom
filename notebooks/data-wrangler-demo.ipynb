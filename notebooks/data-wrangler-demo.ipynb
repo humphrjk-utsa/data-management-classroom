{
 "cells": [
  {
   "cell_type": "markdown",
   "id": "b52a6e91",
   "metadata": {},
   "source": [
    "# Data Wrangler Demo with WestRoxbury Dataset\n",
    "\n",
    "This notebook demonstrates how to use Data Wrangler in VS Code Codespaces."
   ]
  },
  {
   "cell_type": "code",
   "execution_count": 1,
   "id": "e0faf5c7",
   "metadata": {},
   "outputs": [
    {
     "name": "stdout",
     "output_type": "stream",
     "text": [
      "Dataset shape: (5802, 14)\n",
      "\n",
      "Column names:\n",
      "['TOTAL VALUE ', 'TAX', 'LOT SQFT ', 'YR BUILT', 'GROSS AREA ', 'LIVING AREA', 'FLOORS ', 'ROOMS', 'BEDROOMS ', 'FULL BATH', 'HALF BATH', 'KITCHEN', 'FIREPLACE', 'REMODEL']\n"
     ]
    },
    {
     "data": {
      "application/vnd.microsoft.datawrangler.viewer.v0+json": {
       "columns": [
        {
         "name": "index",
         "rawType": "int64",
         "type": "integer"
        },
        {
         "name": "TOTAL VALUE ",
         "rawType": "float64",
         "type": "float"
        },
        {
         "name": "TAX",
         "rawType": "int64",
         "type": "integer"
        },
        {
         "name": "LOT SQFT ",
         "rawType": "int64",
         "type": "integer"
        },
        {
         "name": "YR BUILT",
         "rawType": "int64",
         "type": "integer"
        },
        {
         "name": "GROSS AREA ",
         "rawType": "int64",
         "type": "integer"
        },
        {
         "name": "LIVING AREA",
         "rawType": "int64",
         "type": "integer"
        },
        {
         "name": "FLOORS ",
         "rawType": "float64",
         "type": "float"
        },
        {
         "name": "ROOMS",
         "rawType": "int64",
         "type": "integer"
        },
        {
         "name": "BEDROOMS ",
         "rawType": "int64",
         "type": "integer"
        },
        {
         "name": "FULL BATH",
         "rawType": "int64",
         "type": "integer"
        },
        {
         "name": "HALF BATH",
         "rawType": "int64",
         "type": "integer"
        },
        {
         "name": "KITCHEN",
         "rawType": "int64",
         "type": "integer"
        },
        {
         "name": "FIREPLACE",
         "rawType": "int64",
         "type": "integer"
        },
        {
         "name": "REMODEL",
         "rawType": "object",
         "type": "unknown"
        }
       ],
       "ref": "5f673567-7908-4a2d-ba6e-1bbda0026e52",
       "rows": [
        [
         "0",
         "344.2",
         "4330",
         "9965",
         "1880",
         "2436",
         "1352",
         "2.0",
         "6",
         "3",
         "1",
         "1",
         "1",
         "0",
         null
        ],
        [
         "1",
         "412.6",
         "5190",
         "6590",
         "1945",
         "3108",
         "1976",
         "2.0",
         "10",
         "4",
         "2",
         "1",
         "1",
         "0",
         "Recent"
        ],
        [
         "2",
         "330.1",
         "4152",
         "7500",
         "1890",
         "2294",
         "1371",
         "2.0",
         "8",
         "4",
         "1",
         "1",
         "1",
         "0",
         null
        ],
        [
         "3",
         "498.6",
         "6272",
         "13773",
         "1957",
         "5032",
         "2608",
         "1.0",
         "9",
         "5",
         "1",
         "1",
         "1",
         "1",
         null
        ],
        [
         "4",
         "331.5",
         "4170",
         "5000",
         "1910",
         "2370",
         "1438",
         "2.0",
         "7",
         "3",
         "2",
         "0",
         "1",
         "0",
         null
        ]
       ],
       "shape": {
        "columns": 14,
        "rows": 5
       }
      },
      "text/html": [
       "<div>\n",
       "<style scoped>\n",
       "    .dataframe tbody tr th:only-of-type {\n",
       "        vertical-align: middle;\n",
       "    }\n",
       "\n",
       "    .dataframe tbody tr th {\n",
       "        vertical-align: top;\n",
       "    }\n",
       "\n",
       "    .dataframe thead th {\n",
       "        text-align: right;\n",
       "    }\n",
       "</style>\n",
       "<table border=\"1\" class=\"dataframe\">\n",
       "  <thead>\n",
       "    <tr style=\"text-align: right;\">\n",
       "      <th></th>\n",
       "      <th>TOTAL VALUE</th>\n",
       "      <th>TAX</th>\n",
       "      <th>LOT SQFT</th>\n",
       "      <th>YR BUILT</th>\n",
       "      <th>GROSS AREA</th>\n",
       "      <th>LIVING AREA</th>\n",
       "      <th>FLOORS</th>\n",
       "      <th>ROOMS</th>\n",
       "      <th>BEDROOMS</th>\n",
       "      <th>FULL BATH</th>\n",
       "      <th>HALF BATH</th>\n",
       "      <th>KITCHEN</th>\n",
       "      <th>FIREPLACE</th>\n",
       "      <th>REMODEL</th>\n",
       "    </tr>\n",
       "  </thead>\n",
       "  <tbody>\n",
       "    <tr>\n",
       "      <th>0</th>\n",
       "      <td>344.2</td>\n",
       "      <td>4330</td>\n",
       "      <td>9965</td>\n",
       "      <td>1880</td>\n",
       "      <td>2436</td>\n",
       "      <td>1352</td>\n",
       "      <td>2.0</td>\n",
       "      <td>6</td>\n",
       "      <td>3</td>\n",
       "      <td>1</td>\n",
       "      <td>1</td>\n",
       "      <td>1</td>\n",
       "      <td>0</td>\n",
       "      <td>NaN</td>\n",
       "    </tr>\n",
       "    <tr>\n",
       "      <th>1</th>\n",
       "      <td>412.6</td>\n",
       "      <td>5190</td>\n",
       "      <td>6590</td>\n",
       "      <td>1945</td>\n",
       "      <td>3108</td>\n",
       "      <td>1976</td>\n",
       "      <td>2.0</td>\n",
       "      <td>10</td>\n",
       "      <td>4</td>\n",
       "      <td>2</td>\n",
       "      <td>1</td>\n",
       "      <td>1</td>\n",
       "      <td>0</td>\n",
       "      <td>Recent</td>\n",
       "    </tr>\n",
       "    <tr>\n",
       "      <th>2</th>\n",
       "      <td>330.1</td>\n",
       "      <td>4152</td>\n",
       "      <td>7500</td>\n",
       "      <td>1890</td>\n",
       "      <td>2294</td>\n",
       "      <td>1371</td>\n",
       "      <td>2.0</td>\n",
       "      <td>8</td>\n",
       "      <td>4</td>\n",
       "      <td>1</td>\n",
       "      <td>1</td>\n",
       "      <td>1</td>\n",
       "      <td>0</td>\n",
       "      <td>NaN</td>\n",
       "    </tr>\n",
       "    <tr>\n",
       "      <th>3</th>\n",
       "      <td>498.6</td>\n",
       "      <td>6272</td>\n",
       "      <td>13773</td>\n",
       "      <td>1957</td>\n",
       "      <td>5032</td>\n",
       "      <td>2608</td>\n",
       "      <td>1.0</td>\n",
       "      <td>9</td>\n",
       "      <td>5</td>\n",
       "      <td>1</td>\n",
       "      <td>1</td>\n",
       "      <td>1</td>\n",
       "      <td>1</td>\n",
       "      <td>NaN</td>\n",
       "    </tr>\n",
       "    <tr>\n",
       "      <th>4</th>\n",
       "      <td>331.5</td>\n",
       "      <td>4170</td>\n",
       "      <td>5000</td>\n",
       "      <td>1910</td>\n",
       "      <td>2370</td>\n",
       "      <td>1438</td>\n",
       "      <td>2.0</td>\n",
       "      <td>7</td>\n",
       "      <td>3</td>\n",
       "      <td>2</td>\n",
       "      <td>0</td>\n",
       "      <td>1</td>\n",
       "      <td>0</td>\n",
       "      <td>NaN</td>\n",
       "    </tr>\n",
       "  </tbody>\n",
       "</table>\n",
       "</div>"
      ],
      "text/plain": [
       "   TOTAL VALUE    TAX  LOT SQFT   YR BUILT  GROSS AREA   LIVING AREA  FLOORS   \\\n",
       "0         344.2  4330       9965      1880         2436         1352      2.0   \n",
       "1         412.6  5190       6590      1945         3108         1976      2.0   \n",
       "2         330.1  4152       7500      1890         2294         1371      2.0   \n",
       "3         498.6  6272      13773      1957         5032         2608      1.0   \n",
       "4         331.5  4170       5000      1910         2370         1438      2.0   \n",
       "\n",
       "   ROOMS  BEDROOMS   FULL BATH  HALF BATH  KITCHEN  FIREPLACE REMODEL  \n",
       "0      6          3          1          1        1          0     NaN  \n",
       "1     10          4          2          1        1          0  Recent  \n",
       "2      8          4          1          1        1          0     NaN  \n",
       "3      9          5          1          1        1          1     NaN  \n",
       "4      7          3          2          0        1          0     NaN  "
      ]
     },
     "execution_count": 1,
     "metadata": {},
     "output_type": "execute_result"
    }
   ],
   "source": [
    "import pandas as pd\n",
    "import numpy as np\n",
    "\n",
    "# Load the WestRoxbury dataset\n",
    "df = pd.read_csv('../data/WestRoxbury.csv')\n",
    "\n",
    "# Display basic info about the dataset\n",
    "print(\"Dataset shape:\", df.shape)\n",
    "print(\"\\nColumn names:\")\n",
    "print(df.columns.tolist())\n",
    "\n",
    "# Show first few rows\n",
    "df.head()"
   ]
  },
  {
   "cell_type": "markdown",
   "id": "88641667",
   "metadata": {},
   "source": [
    "## Using Data Wrangler\n",
    "\n",
    "Once you run the cell above, you should see an **\"Open in Data Wrangler\"** button appear next to the DataFrame output.\n",
    "\n",
    "### Steps to use Data Wrangler:\n",
    "\n",
    "1. **Click the \"Open in Data Wrangler\" button** that appears next to the DataFrame\n",
    "2. **Explore your data** in the interactive interface\n",
    "3. **Apply transformations** using the visual interface\n",
    "4. **Generate code** for your transformations\n",
    "5. **Export** the cleaned data back to your notebook"
   ]
  },
  {
   "cell_type": "code",
   "execution_count": null,
   "id": "d6b1134d",
   "metadata": {},
   "outputs": [],
   "source": [
    "# This cell will contain the generated code from Data Wrangler\n",
    "# After using Data Wrangler, you can paste the generated code here\n",
    "\n",
    "# Example of what Data Wrangler might generate:\n",
    "# df_cleaned = df.copy()\n",
    "# df_cleaned = df_cleaned.dropna()\n",
    "# df_cleaned = df_cleaned[df_cleaned['column_name'] > 0]\n",
    "\n",
    "print(\"Paste your Data Wrangler generated code here!\")"
   ]
  }
 ],
 "metadata": {
  "kernelspec": {
   "display_name": "Python 3",
   "language": "python",
   "name": "python3"
  },
  "language_info": {
   "codemirror_mode": {
    "name": "ipython",
    "version": 3
   },
   "file_extension": ".py",
   "mimetype": "text/x-python",
   "name": "python",
   "nbconvert_exporter": "python",
   "pygments_lexer": "ipython3",
   "version": "3.11.12"
  }
 },
 "nbformat": 4,
 "nbformat_minor": 5
}
